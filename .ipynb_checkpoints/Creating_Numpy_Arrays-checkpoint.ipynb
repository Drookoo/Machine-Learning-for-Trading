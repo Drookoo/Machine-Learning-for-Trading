{
 "cells": [
  {
   "cell_type": "code",
   "execution_count": 2,
   "metadata": {},
   "outputs": [
    {
     "name": "stdout",
     "output_type": "stream",
     "text": [
      "[  0.00000000e+000   0.00000000e+000   0.00000000e+000   6.42285340e-321\n",
      "   1.78021527e-306]\n",
      "[[[  8.39936902e-309   2.04167910e-307   3.56016541e-306]\n",
      "  [  4.95070278e+173   3.80913602e-308   2.14536114e+156]\n",
      "  [  3.38503263e+125   2.69659911e-308   9.21426999e+165]\n",
      "  [  3.38503263e+125   8.62911465e-307   3.53893976e+040]]\n",
      "\n",
      " [[  4.95070278e+173   3.49840966e-309   1.69977305e+185]\n",
      "  [  5.03640003e+173   3.26981558e-307   7.30033601e+194]\n",
      "  [  3.38916423e+125   1.12992049e-306   6.52819161e+059]\n",
      "  [  4.95070278e+173   3.49840999e-309   2.05474590e+209]]\n",
      "\n",
      " [[  3.38585896e+125   1.35242799e-306   3.79055684e+228]\n",
      "  [  3.38503264e+125   1.06697461e+243   3.33234433e+178]\n",
      "  [  4.08335824e-307  -2.11058501e-289   3.87041322e-307]\n",
      "  [  2.51964324e-239   4.95070278e+173   2.10774579e-309]]\n",
      "\n",
      " [[  1.28986556e+267   3.38503263e+125   4.54227987e-307]\n",
      "  [  5.54007848e+276   3.38585572e+125   5.67133286e-308]\n",
      "  [  1.30827832e-205   5.09683061e+173   4.88908878e-309]\n",
      "  [  5.10045492e+173   6.22759930e-308   1.75999904e+127]]\n",
      "\n",
      " [[  5.04855219e+173   7.17068414e-310   2.51965788e-239]\n",
      "  [  5.10286895e+173   2.10230371e-309   5.10407792e+173]\n",
      "  [  6.50573354e-308   9.52051389e-292   3.45183867e-306]\n",
      "  [  3.21722476e-085   3.38750837e+125   5.04684453e+173]]]\n"
     ]
    }
   ],
   "source": [
    "import numpy as np\n",
    "\n",
    "\n",
    "def test_run():\n",
    "    # print(np.array([(2, 3, 4), (5, 6, 7)]))\n",
    "    print(np.empty(5))\n",
    "    print(np.empty((5, 4, 3)))\n",
    "\n",
    "if __name__ == '__main__':\n",
    "    test_run()"
   ]
  },
  {
   "cell_type": "code",
   "execution_count": null,
   "metadata": {},
   "outputs": [],
   "source": []
  },
  {
   "cell_type": "code",
   "execution_count": null,
   "metadata": {},
   "outputs": [],
   "source": []
  },
  {
   "cell_type": "code",
   "execution_count": null,
   "metadata": {},
   "outputs": [],
   "source": []
  }
 ],
 "metadata": {
  "kernelspec": {
   "display_name": "Python 3",
   "language": "python",
   "name": "python3"
  },
  "language_info": {
   "codemirror_mode": {
    "name": "ipython",
    "version": 3
   },
   "file_extension": ".py",
   "mimetype": "text/x-python",
   "name": "python",
   "nbconvert_exporter": "python",
   "pygments_lexer": "ipython3",
   "version": "3.5.2"
  }
 },
 "nbformat": 4,
 "nbformat_minor": 1
}
